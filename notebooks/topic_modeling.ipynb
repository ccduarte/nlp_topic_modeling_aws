{
 "cells": [
  {
   "cell_type": "code",
   "execution_count": 5,
   "metadata": {},
   "outputs": [],
   "source": [
    "import boto3\n",
    "import requests\n",
    "import pandas as pd"
   ]
  },
  {
   "cell_type": "code",
   "execution_count": 8,
   "metadata": {},
   "outputs": [
    {
     "name": "stdout",
     "output_type": "stream",
     "text": [
      "Arquivo salvo com sucesso em: ../src/data/01_raw/tickets_reclamacoes_classificados.csv\n"
     ]
    }
   ],
   "source": [
    "url = \"https://dados-ml-pln.s3.sa-east-1.amazonaws.com/tickets_reclamacoes_classificados.csv\"\n",
    "\n",
    "local_filename = \"../src/data/01_raw/tickets_reclamacoes_classificados.csv\"\n",
    "\n",
    "import os\n",
    "if not os.path.exists(os.path.dirname(local_filename)):\n",
    "    os.makedirs(os.path.dirname(local_filename))\n",
    "\n",
    "response = requests.get(url)\n",
    "\n",
    "with open(local_filename, 'wb') as file:\n",
    "    file.write(response.content)\n",
    "\n",
    "print(f\"Arquivo salvo com sucesso em: {local_filename}\")\n"
   ]
  },
  {
   "cell_type": "code",
   "execution_count": 10,
   "metadata": {},
   "outputs": [],
   "source": [
    "df = pd.read_csv(\"../src/data/01_raw/tickets_reclamacoes_classificados.csv\", sep=\";\")"
   ]
  },
  {
   "cell_type": "code",
   "execution_count": 11,
   "metadata": {},
   "outputs": [
    {
     "data": {
      "text/html": [
       "<div>\n",
       "<style scoped>\n",
       "    .dataframe tbody tr th:only-of-type {\n",
       "        vertical-align: middle;\n",
       "    }\n",
       "\n",
       "    .dataframe tbody tr th {\n",
       "        vertical-align: top;\n",
       "    }\n",
       "\n",
       "    .dataframe thead th {\n",
       "        text-align: right;\n",
       "    }\n",
       "</style>\n",
       "<table border=\"1\" class=\"dataframe\">\n",
       "  <thead>\n",
       "    <tr style=\"text-align: right;\">\n",
       "      <th></th>\n",
       "      <th>id_reclamacao</th>\n",
       "      <th>data_abertura</th>\n",
       "      <th>categoria</th>\n",
       "      <th>descricao_reclamacao</th>\n",
       "    </tr>\n",
       "  </thead>\n",
       "  <tbody>\n",
       "    <tr>\n",
       "      <th>0</th>\n",
       "      <td>3229299</td>\n",
       "      <td>2019-05-01T12:00:00-05:00</td>\n",
       "      <td>Hipotecas / Empréstimos</td>\n",
       "      <td>Bom dia, meu nome é xxxx xxxx e agradeço se vo...</td>\n",
       "    </tr>\n",
       "    <tr>\n",
       "      <th>1</th>\n",
       "      <td>3199379</td>\n",
       "      <td>2019-04-02T12:00:00-05:00</td>\n",
       "      <td>Cartão de crédito / Cartão pré-pago</td>\n",
       "      <td>Atualizei meu cartão xxxx xxxx em xx/xx/2018 e...</td>\n",
       "    </tr>\n",
       "    <tr>\n",
       "      <th>2</th>\n",
       "      <td>3233499</td>\n",
       "      <td>2019-05-06T12:00:00-05:00</td>\n",
       "      <td>Cartão de crédito / Cartão pré-pago</td>\n",
       "      <td>O cartão Chase foi relatado em xx/xx/2019. No ...</td>\n",
       "    </tr>\n",
       "    <tr>\n",
       "      <th>3</th>\n",
       "      <td>3180294</td>\n",
       "      <td>2019-03-14T12:00:00-05:00</td>\n",
       "      <td>Cartão de crédito / Cartão pré-pago</td>\n",
       "      <td>Em xx/xx/2018, enquanto tentava reservar um ti...</td>\n",
       "    </tr>\n",
       "    <tr>\n",
       "      <th>4</th>\n",
       "      <td>3224980</td>\n",
       "      <td>2019-04-27T12:00:00-05:00</td>\n",
       "      <td>Serviços de conta bancária</td>\n",
       "      <td>Meu neto me dê cheque por {$ 1600,00} Eu depos...</td>\n",
       "    </tr>\n",
       "  </tbody>\n",
       "</table>\n",
       "</div>"
      ],
      "text/plain": [
       "   id_reclamacao              data_abertura  \\\n",
       "0        3229299  2019-05-01T12:00:00-05:00   \n",
       "1        3199379  2019-04-02T12:00:00-05:00   \n",
       "2        3233499  2019-05-06T12:00:00-05:00   \n",
       "3        3180294  2019-03-14T12:00:00-05:00   \n",
       "4        3224980  2019-04-27T12:00:00-05:00   \n",
       "\n",
       "                             categoria  \\\n",
       "0              Hipotecas / Empréstimos   \n",
       "1  Cartão de crédito / Cartão pré-pago   \n",
       "2  Cartão de crédito / Cartão pré-pago   \n",
       "3  Cartão de crédito / Cartão pré-pago   \n",
       "4           Serviços de conta bancária   \n",
       "\n",
       "                                descricao_reclamacao  \n",
       "0  Bom dia, meu nome é xxxx xxxx e agradeço se vo...  \n",
       "1  Atualizei meu cartão xxxx xxxx em xx/xx/2018 e...  \n",
       "2  O cartão Chase foi relatado em xx/xx/2019. No ...  \n",
       "3  Em xx/xx/2018, enquanto tentava reservar um ti...  \n",
       "4  Meu neto me dê cheque por {$ 1600,00} Eu depos...  "
      ]
     },
     "execution_count": 11,
     "metadata": {},
     "output_type": "execute_result"
    }
   ],
   "source": [
    "df.head()"
   ]
  },
  {
   "cell_type": "code",
   "execution_count": null,
   "metadata": {},
   "outputs": [],
   "source": []
  }
 ],
 "metadata": {
  "kernelspec": {
   "display_name": ".venv",
   "language": "python",
   "name": "python3"
  },
  "language_info": {
   "codemirror_mode": {
    "name": "ipython",
    "version": 3
   },
   "file_extension": ".py",
   "mimetype": "text/x-python",
   "name": "python",
   "nbconvert_exporter": "python",
   "pygments_lexer": "ipython3",
   "version": "3.10.13"
  }
 },
 "nbformat": 4,
 "nbformat_minor": 2
}
